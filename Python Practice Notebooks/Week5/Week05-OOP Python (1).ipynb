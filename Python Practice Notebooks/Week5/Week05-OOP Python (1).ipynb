{
 "cells": [
  {
   "cell_type": "markdown",
   "id": "56352afb",
   "metadata": {},
   "source": [
    "# Object Oriented Python\n",
    "\n",
    "Object-Oriented Programming (OOP) is centered around a set of fundamental principles that aid in the structuring and administration of code. Several fundamental principles encompass:\n",
    "\n",
    "01. Classes and Objects\n",
    "02. Encapsulation\n",
    "03. Inheritance\n",
    "04. Polymorphism\n",
    "05. Shallow and Deep Copy\n",
    "06. Operator Overloading\n",
    "07. Abstraction\n",
    "08. Composition\n",
    "09. Aggregation\n",
    "10. Association\n"
   ]
  },
  {
   "cell_type": "markdown",
   "id": "baa92274",
   "metadata": {},
   "source": [
    "## 01. Classes and Objects"
   ]
  },
  {
   "cell_type": "markdown",
   "id": "9e99515e",
   "metadata": {},
   "source": [
    " - **Classes:** A blueprint or template used to create objects. It defines properties (data) and methods (functions) that reflect the characteristics and actions of objects.\n",
    "\n",
    " - **Objects:** Instances of classes that include the actual data and functionality specified by the class.\n"
   ]
  },
  {
   "cell_type": "code",
   "execution_count": 1,
   "id": "2e44dd2c",
   "metadata": {},
   "outputs": [
    {
     "name": "stdout",
     "output_type": "stream",
     "text": [
      "2.0+3.5i\n",
      "2+3i\n",
      "5+4i\n"
     ]
    }
   ],
   "source": [
    "# 01. Classes and Objects\n",
    "\n",
    "class Complex:\n",
    "    def __init__(self,r=2.0,i=3.5): #two-arg constructor\n",
    "        self.__re=r    # both self.__re and self.__im are private\n",
    "        self.__im=i\n",
    "    def setValue(self,r,i): #non-constructor function\n",
    "        self.__re=r\n",
    "        self.__im=i\n",
    "    def show(self):     #non-constructor function\n",
    "        print(str(self.__re)+\"+\"+str(self.__im)+\"i\")\n",
    "\n",
    "obj1 = Complex() \n",
    "obj1.show()\n",
    "\n",
    "obj2 = Complex(2,3)\n",
    "obj2.show()\n",
    "obj2.setValue(5,4)\n",
    "obj2.show()"
   ]
  },
  {
   "cell_type": "code",
   "execution_count": 2,
   "id": "f67f8111",
   "metadata": {},
   "outputs": [
    {
     "name": "stdout",
     "output_type": "stream",
     "text": [
      "I'm here in 2-argument constructor\n",
      "First Complex Number: \n",
      "3 + 2.5 i\n",
      "I'm here in 2-argument constructor\n",
      "Second Complex Number: \n",
      "5 + 3 i\n",
      "I'm here in 2-argument constructor\n",
      "Sum of two Complex Numbers: \n",
      "8 + 5.5 i\n",
      "Negation of Complex Number: \n",
      "-3 -2.5 i\n",
      "3 + 2.5 i\n"
     ]
    }
   ],
   "source": [
    "class complex:\n",
    "    def __init__(self):\n",
    "        print(\"I'm here in no-argument constructor\")\n",
    "        self.re = 0.0\n",
    "        self.img = 0.0\n",
    "    \n",
    "    def __init__(self,r,i):\n",
    "        print(\"I'm here in 2-argument constructor\")\n",
    "        self.re = r\n",
    "        self.img = i\n",
    "        \n",
    "    def addCom(self,num1,num2):       # num1 and num2 are Complex objects\n",
    "        self.re=num1.re+num2.re\n",
    "        self.img=num1.img+num2.img\n",
    "\n",
    "    def negate(self,num):\n",
    "        self.re=-num.re\n",
    "        self.img=-num.img\n",
    "        return self\n",
    "\n",
    "    def show(self):\n",
    "        if self.img>0:\n",
    "            print(self.re,\"+\",self.img,\"i\")\n",
    "        else:\n",
    "            print(self.re,self.img,\"i\")\n",
    "\n",
    "c1=complex(3,2.5)\n",
    "print(\"First Complex Number: \")\n",
    "c1.show()\n",
    "\n",
    "c2=complex(5,3)\n",
    "print(\"Second Complex Number: \")\n",
    "c2.show()\n",
    "\n",
    "c=complex(0,0)\n",
    "print(\"Sum of two Complex Numbers: \")\n",
    "c.addCom(c1,c2)\n",
    "c.show()\n",
    "\n",
    "c.negate(c1)\n",
    "print(\"Negation of Complex Number: \")\n",
    "c.show()\n",
    "c1.show()\n"
   ]
  },
  {
   "cell_type": "markdown",
   "id": "6144678f",
   "metadata": {},
   "source": [
    " - **Activity 01:** Create a Python program for a \"Vehicle Inventory Management System\" using classes and objects. Design a Vehicle class to represent different vehicles with attributes like make, model, year, and price. Implement methods to display vehicle details, calculate depreciation, and check the total inventory value. Utilize instances of the Vehicle class to add new vehicles, update information, and showcase the functionalities of the system. "
   ]
  },
  {
   "cell_type": "markdown",
   "id": "7bedf294",
   "metadata": {},
   "source": [
    "##  02. Encapsulation\n"
   ]
  },
  {
   "cell_type": "markdown",
   "id": "910e5e3d",
   "metadata": {},
   "source": [
    "**Encapsulation:** It combines data (attributes) and methods (functions) that manipulate the data into a single entity (class). Encapsulation conceals the internal state of objects from external sources and limits direct access to data by external code."
   ]
  },
  {
   "cell_type": "code",
   "execution_count": 3,
   "id": "51922182",
   "metadata": {},
   "outputs": [
    {
     "name": "stdout",
     "output_type": "stream",
     "text": [
      "1500\n",
      "1300\n"
     ]
    }
   ],
   "source": [
    "# 02. Encapsulation\n",
    "\n",
    "# prefixing convention to represent public, protected, and private data\n",
    "# self.public (public data)\n",
    "# self._protected (protected data)\n",
    "# self.__private (private data)\n",
    "\n",
    "class Account:\n",
    "    def __init__(self, id, balance=0):\n",
    "        self.__id = id            # Private attribute\n",
    "        self.__balance = balance  # Private attribute \n",
    "\n",
    "    def deposit(self, amount):\n",
    "        if amount > 0:\n",
    "            self.__balance += amount\n",
    "\n",
    "    def withdraw(self, amount):\n",
    "        if 0 < amount <= self.__balance:\n",
    "            self.__balance -= amount\n",
    "            return amount\n",
    "        return \"Insufficient balance\"\n",
    "\n",
    "    def get_balance(self):\n",
    "        return self.__balance\n",
    "\n",
    "\n",
    "account = Account(1, 1000)\n",
    "account.deposit(500)\n",
    "print(account.get_balance())  # 1500\n",
    "account.withdraw(200)\n",
    "print(account.get_balance())  # 1300"
   ]
  },
  {
   "cell_type": "markdown",
   "id": "46176390",
   "metadata": {},
   "source": [
    " - **Activity 01:** This is just a note that activity 01 can be taken as an example activity for Encapsulation. "
   ]
  },
  {
   "cell_type": "markdown",
   "id": "edb930e4",
   "metadata": {},
   "source": [
    "##  03. Inheritance\n"
   ]
  },
  {
   "cell_type": "markdown",
   "id": "0eb8e029",
   "metadata": {},
   "source": [
    "**Inheritance:** It enables a newly created class (child or derived class) to acquire attributes and methods from an already existing class (parent or base class). It facilitates the reuse of code and enables the development of specialized classes.\n"
   ]
  },
  {
   "cell_type": "code",
   "execution_count": 4,
   "id": "afe2b65f",
   "metadata": {},
   "outputs": [
    {
     "name": "stdout",
     "output_type": "stream",
     "text": [
      "Buddy says Woof!\n",
      "Whiskers says Meow!\n"
     ]
    }
   ],
   "source": [
    "# 03. Inheritance\n",
    "\n",
    "class Animal:  #parent class \n",
    "    def __init__(self, name):\n",
    "        self.name = name\n",
    "\n",
    "    def speak(self):\n",
    "        pass\n",
    "\n",
    "class Dog(Animal): #Dog is a child class derived from Animal parent class\n",
    "    def speak(self):\n",
    "        return f\"{self.name} says Woof!\"\n",
    "\n",
    "\n",
    "class Cat(Animal):  #Cat is a child class derived from Animal parent class\n",
    "    def speak(self):\n",
    "        return f\"{self.name} says Meow!\"\n",
    "\n",
    "\n",
    "dog = Dog(\"Buddy\")\n",
    "cat = Cat(\"Whiskers\")\n",
    "print(dog.speak())  # Output: Buddy says Woof!\n",
    "print(cat.speak())  # Output: Whiskers says Meow!"
   ]
  },
  {
   "cell_type": "markdown",
   "id": "7f160d12",
   "metadata": {},
   "source": [
    " - **Activity 02:** Create a set of classes related to \"Vehicles\" that showcase inheritance. Begin with a base class Vehicle that has attributes like make, model, and year. Then, derive two child classes, say Car and Motorcycle, from the Vehicle class. Implement a method called drive in both child classes, which returns a string indicating the vehicle's movement (e.g., \"The Car is cruising\" for Car and \"The Motorcycle is revving\" for Motorcycle). Instantiate objects of the Car and Motorcycle classes and demonstrate their drive method to showcase inheritance in action. Remember, the primary objective is to illustrate inheritance by deriving child classes (Car and Motorcycle) from a base class (Vehicle) and implementing specific functionalities in the child classes while inheriting common attributes from the base class."
   ]
  },
  {
   "cell_type": "markdown",
   "id": "40427982",
   "metadata": {},
   "source": [
    "##  04. Polymorphism\n"
   ]
  },
  {
   "cell_type": "markdown",
   "id": "375190b3",
   "metadata": {},
   "source": [
    "**Polymorphism:** It enables objects of different classes to be treated as instances of a common superclass. It allows for the use of a shared interface or superclass to process objects differently based on their specific implementations.\n"
   ]
  },
  {
   "cell_type": "code",
   "execution_count": 5,
   "id": "1da29569",
   "metadata": {},
   "outputs": [
    {
     "name": "stdout",
     "output_type": "stream",
     "text": [
      "Drawing a rectangle\n",
      "Drawing a circle\n",
      "Drawing a square\n"
     ]
    }
   ],
   "source": [
    "# 04. Polymorphism\n",
    "\n",
    "class Rectangle:\n",
    "    def draw(self):\n",
    "        return \"Drawing a rectangle\"\n",
    "\n",
    "class Circle:\n",
    "    def draw(self):\n",
    "        return \"Drawing a circle\"\n",
    "\n",
    "class Square:\n",
    "    def draw(self):\n",
    "        return \"Drawing a square\"\n",
    "    \n",
    "# Function to interact with shapes without knowing their specific type\n",
    "def draw_shape(shape):\n",
    "    print(shape.draw())\n",
    "\n",
    "\n",
    "draw_shape(Rectangle())  # Output: Drawing a rectangle\n",
    "draw_shape(Circle())     # Output: Drawing a circle\n",
    "draw_shape(Square())     # Output: Drawing a square"
   ]
  },
  {
   "cell_type": "markdown",
   "id": "82f427d5",
   "metadata": {},
   "source": [
    "- **Activity 03:** Imagine designing a simulation for a game where various characters possess unique attack styles. Engage with polymorphism in Python's OOP by establishing a base class, say Character, and several subclasses like Warrior, Mage, and Rogue. Each subclass defines an attack method with different combat techniques. Illustrate how, despite sharing method names, these character classes display distinct attack behaviors when the attack method is invoked. This demonstrates the adaptability and versatility of polymorphism in Python's object-oriented paradigm, crucial for building dynamic and diverse character interactions within the game simulation.\n",
    "\n",
    "- **Purpose:** This activity aims to exemplify how polymorphism facilitates diverse behaviors among different character classes in a game scenario, all through a unified interface. It underscores the significance of polymorphism in Python's OOP, allowing for flexible and varied implementations tailored to individual character types."
   ]
  },
  {
   "cell_type": "markdown",
   "id": "56570394",
   "metadata": {},
   "source": [
    "##  05. Shallow and Deep Copy\n"
   ]
  },
  {
   "cell_type": "markdown",
   "id": "984534d7",
   "metadata": {},
   "source": [
    "- **Shallow Copy:** Creates a new object but copies only the references to the original objects, not the objects themselves.\n",
    "- **Deep Copy:** Creates a new object and recursively copies all objects within it, producing a fully independent copy."
   ]
  },
  {
   "cell_type": "code",
   "execution_count": 6,
   "id": "0f264132",
   "metadata": {},
   "outputs": [
    {
     "name": "stdout",
     "output_type": "stream",
     "text": [
      "In Parametrized Constructor\n",
      "1011   Ali Ahmad   3.4\n",
      "1011   Ali Ahmad   3.4\n",
      "1011   Ali Ahmad   3.4\n",
      "destructor\n",
      "destructor\n",
      "destructor\n"
     ]
    }
   ],
   "source": [
    "# 05. Shallow and Deep Copy\n",
    "\n",
    "import copy\n",
    "\n",
    "class Student:\n",
    "    def __init__(self,i=0,n=\"\",g=0.0):\n",
    "        print(\"In Parametrized Constructor\")\n",
    "        self.id = i\n",
    "        self.name = n\n",
    "        self.gpa = g\n",
    "\n",
    "    def __del__(self):\n",
    "        print(\"destructor\")\n",
    "\n",
    "    def show(self):\n",
    "        print(self.id,\" \",self.name,\" \",self.gpa)\n",
    "\n",
    "s1 = Student(1011,\"Ali Ahmad\",3.4)\n",
    "s1.show()\n",
    "\n",
    "s2 = copy.copy(s1) # shallow copy\n",
    "s2.show()\n",
    "\n",
    "s3 = copy.deepcopy(s1) # deep copy\n",
    "s3.show()\n",
    "\n",
    "del s1\n",
    "del s2\n",
    "del s3"
   ]
  },
  {
   "cell_type": "markdown",
   "id": "221c7ee0",
   "metadata": {},
   "source": [
    "## 06. Operator Overloading\n"
   ]
  },
  {
   "cell_type": "markdown",
   "id": "308149c7",
   "metadata": {},
   "source": [
    "**Operator Overloading:** It enables operators to have different implementations depending on the data types or classes of the operands. For example, specifying customized functionality for operators like as `+`, `-`, `*`, etc., for instances of a class."
   ]
  },
  {
   "cell_type": "code",
   "execution_count": 7,
   "id": "7857de95",
   "metadata": {},
   "outputs": [
    {
     "name": "stdout",
     "output_type": "stream",
     "text": [
      "2 + 3.5 i\n",
      "3.5 + 2 i\n",
      "5.5 + 5.5 i\n",
      "5.5 + 5.5 i\n",
      "-2 + -3.5 i\n"
     ]
    }
   ],
   "source": [
    "# 06. Operator Overloading\n",
    "\n",
    "class complex:\n",
    "    def __init__(self, r=0, i=0):\n",
    "        self.re = r\n",
    "        self.im = i\n",
    "        \n",
    "    def sum(self, c):\n",
    "        temp = complex()\n",
    "        temp.re = self.re + c.re\n",
    "        temp.im = self.im + c.im\n",
    "        return temp\n",
    "\n",
    "    def __add__(self, c): # binary + is overloaded\n",
    "        temp = complex()\n",
    "        temp.re = self.re + c.re\n",
    "        temp.im = self.im + c.im\n",
    "        return temp\n",
    "    \n",
    "    def __invert__(self): # unary ~ is overloaded\n",
    "        temp = complex()\n",
    "        temp.re = -self.re\n",
    "        temp.im = -self.im\n",
    "        return temp\n",
    "\n",
    "    def show(self):\n",
    "        print(self.re,\"+\",self.im,\"i\")\n",
    "\n",
    "c1 = complex(2,3.5)\n",
    "c1.show()\n",
    "\n",
    "c2 = complex(3.5,2)\n",
    "c2.show()\n",
    "\n",
    "c3 = complex()\n",
    "c3 = c1.sum(c2)\n",
    "c3.show()\n",
    "\n",
    "c3 = c1 + c2\n",
    "c3.show()\n",
    "\n",
    "c1 = ~c1\n",
    "c1.show()"
   ]
  },
  {
   "cell_type": "markdown",
   "id": "4279c73a",
   "metadata": {},
   "source": [
    "- **Activity 04:** Imagine designing a Python class, Duration, to manage time durations in hours and minutes. Implement methods to add durations and obtain the inverse of a duration using operator overloading, allowing the use of the + (binary) and ~ (unary) operators with instances of the Duration class.\n",
    "\n",
    "\n",
    "- **Steps:** \n",
    "1. Create a Duration class that initializes durations in hours and minutes.\n",
    "2. Overload the + operator to add two durations together.\n",
    "3. Overload the ~ operator to obtain the inverse of a duration (e.g., negating the hours and minutes).\n",
    "4. Instantiate objects of the Duration class and demonstrate the overloaded operators for addition and inversion, showcasing how these operations behave differently based on the operator overloading.\n"
   ]
  },
  {
   "cell_type": "markdown",
   "id": "e98f0d7e",
   "metadata": {},
   "source": [
    "## 07. Abstraction\n"
   ]
  },
  {
   "cell_type": "markdown",
   "id": "aa2cf36d",
   "metadata": {},
   "source": [
    "**Abstraction:** It focuses on exposing only essential features of an object and hiding the unnecessary details. It enables the manipulation of objects at a more abstract level, without the need to be concerned about the underlying details of their implementation."
   ]
  },
  {
   "cell_type": "code",
   "execution_count": 8,
   "id": "9ea755bd",
   "metadata": {},
   "outputs": [
    {
     "name": "stdout",
     "output_type": "stream",
     "text": [
      "Area of Circle: 78.5\n",
      "Area of Rectangle: 24\n"
     ]
    }
   ],
   "source": [
    "# 07. Abstraction\n",
    "\n",
    "from abc import ABC, abstractmethod\n",
    "\n",
    "# Abstract class\n",
    "class Shape(ABC):\n",
    "    @abstractmethod\n",
    "    def area(self):\n",
    "        pass\n",
    "\n",
    "# Concrete classes inheriting from the Shape class\n",
    "class Circle(Shape):\n",
    "    def __init__(self, radius):\n",
    "        self.radius = radius\n",
    "    \n",
    "    def area(self):\n",
    "        return 3.14 * self.radius * self.radius\n",
    "\n",
    "class Rectangle(Shape):\n",
    "    def __init__(self, length, width):\n",
    "        self.length = length\n",
    "        self.width = width\n",
    "    \n",
    "    def area(self):\n",
    "        return self.length * self.width\n",
    "\n",
    "# Objects and usage\n",
    "circle = Circle(5)\n",
    "print(\"Area of Circle:\", circle.area())\n",
    "\n",
    "rectangle = Rectangle(4, 6)\n",
    "print(\"Area of Rectangle:\", rectangle.area())\n"
   ]
  },
  {
   "cell_type": "markdown",
   "id": "34e8bd75",
   "metadata": {},
   "source": [
    "- **Activity 05:** Imagine designing Python classes to represent various school subjects, highlighting the abstract nature of their attributes and behaviors. Craft an abstract base class, Subject, with an abstract method, study_time. Create concrete subclasses like Math and History, inheriting from Subject, and implement specific study time calculations for each subject.\n",
    "\n",
    "\n",
    "- **Steps:** \n",
    "\n",
    "1. Define an abstract base class, Subject, with an abstract method study_time.\n",
    "2. Create concrete subclasses such as Math and History inheriting from Subject.\n",
    "3. Implement the study_time method in each subclass to calculate the study time required for that subject, showcasing different implementations."
   ]
  },
  {
   "cell_type": "markdown",
   "id": "b8e1efb9",
   "metadata": {},
   "source": [
    "## 08. Composition\n"
   ]
  },
  {
   "cell_type": "markdown",
   "id": "da983877",
   "metadata": {},
   "source": [
    "**Composition:** It is a design principle that involves combining simpler objects to create complex ones. By organizing objects into larger structures, it facilitates the construction of more intricate formations."
   ]
  },
  {
   "cell_type": "code",
   "execution_count": 9,
   "id": "fc440447",
   "metadata": {},
   "outputs": [
    {
     "name": "stdout",
     "output_type": "stream",
     "text": [
      "Battery charging\n"
     ]
    }
   ],
   "source": [
    "# 08. Composition\n",
    "\n",
    "class Battery:\n",
    "    def charge(self):\n",
    "        return \"Battery charging\"\n",
    "\n",
    "class Smartphone:\n",
    "    def __init__(self):\n",
    "        self.battery = Battery()\n",
    "\n",
    "    def charge_phone(self):\n",
    "        return self.battery.charge()\n",
    "\n",
    "\n",
    "phone = Smartphone()\n",
    "print(phone.charge_phone())  # Output: Battery charging"
   ]
  },
  {
   "cell_type": "markdown",
   "id": "56e62c43",
   "metadata": {},
   "source": [
    "## 09. Aggregation"
   ]
  },
  {
   "cell_type": "markdown",
   "id": "7830b706",
   "metadata": {},
   "source": [
    "**Aggregation:** It is a form of association that signifies a \"has-a\" relationship, where one class holds a reference to another class. It indicates a fragile form of ownership."
   ]
  },
  {
   "cell_type": "code",
   "execution_count": 10,
   "id": "639fa279",
   "metadata": {},
   "outputs": [
    {
     "name": "stdout",
     "output_type": "stream",
     "text": [
      "Engine starts\n"
     ]
    }
   ],
   "source": [
    "# 09. Aggregation\n",
    "\n",
    "class Engine:\n",
    "    def start(self):\n",
    "        print(\"Engine starts\")\n",
    "\n",
    "\n",
    "class Car:\n",
    "    def __init__(self, engine):\n",
    "        self.engine = engine\n",
    "\n",
    "    def start(self):\n",
    "        self.engine.start()\n",
    "\n",
    "\n",
    "engine = Engine()\n",
    "car = Car(engine)\n",
    "car.start()  # The Engine is part of the Car, but it's a separate, independent object"
   ]
  },
  {
   "cell_type": "markdown",
   "id": "3c62471a",
   "metadata": {},
   "source": [
    "## 10. Association"
   ]
  },
  {
   "cell_type": "markdown",
   "id": "fb0fd094",
   "metadata": {},
   "source": [
    "**Association:** It denotes a relationship between two classes, illustrating how objects from one class are related to objects from another class. The relationships between classes can take several forms, such as \"has-a,\" \"uses-a,\" or other types."
   ]
  },
  {
   "cell_type": "code",
   "execution_count": 11,
   "id": "ed604ee7",
   "metadata": {},
   "outputs": [],
   "source": [
    "# 10. Association\n",
    "\n",
    "class Professor:\n",
    "    pass\n",
    "\n",
    "\n",
    "class Department:\n",
    "    def __init__(self, professor):\n",
    "        self.professor = professor\n",
    "\n",
    "\n",
    "# Here, Department is associated with Professor,\n",
    "# but neither owns the other."
   ]
  },
  {
   "cell_type": "markdown",
   "id": "07243628",
   "metadata": {},
   "source": [
    "- **Activity 06:** Write a note on composition, aggregation, and association in oop.\n",
    "\n"
   ]
  },
  {
   "cell_type": "code",
   "execution_count": null,
   "id": "b91c9702",
   "metadata": {},
   "outputs": [],
   "source": []
  }
 ],
 "metadata": {
  "kernelspec": {
   "display_name": "Python 3 (ipykernel)",
   "language": "python",
   "name": "python3"
  },
  "language_info": {
   "codemirror_mode": {
    "name": "ipython",
    "version": 3
   },
   "file_extension": ".py",
   "mimetype": "text/x-python",
   "name": "python",
   "nbconvert_exporter": "python",
   "pygments_lexer": "ipython3",
   "version": "3.9.16"
  }
 },
 "nbformat": 4,
 "nbformat_minor": 5
}
