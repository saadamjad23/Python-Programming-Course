{
 "cells": [
  {
   "cell_type": "markdown",
   "id": "561e3342",
   "metadata": {},
   "source": [
    "# Python Module"
   ]
  },
  {
   "cell_type": "markdown",
   "id": "266c863c",
   "metadata": {},
   "source": [
    "A module in Python refers to a file that contains executable Python code. \n",
    "\n",
    "Python has the ability to declare functions, classes, and variables, and it can also incorporate executable code. Modules facilitate the systematic organization of Python code and promote code reusability by importing them into other Python programs. \n",
    "\n",
    "They facilitate the management of complexity by dividing extensive programs into smaller, more easily controllable components. The comprehensive standard library of Python comprises a multitude of modules that offer pre-existing functionality for a wide range of activities, including file manipulation, data structure management, networking, and other operations."
   ]
  },
  {
   "cell_type": "markdown",
   "id": "86c545b2",
   "metadata": {},
   "source": [
    "### User-defined Modules"
   ]
  },
  {
   "cell_type": "code",
   "execution_count": 1,
   "id": "66019667",
   "metadata": {},
   "outputs": [],
   "source": [
    "# math_operations.py\n",
    "\n",
    "def add(a, b):\n",
    "    return a + b\n",
    "\n",
    "def subtract(a, b):\n",
    "    return a - b\n",
    "\n",
    "def multiply(a, b):\n",
    "    return a * b\n",
    "\n",
    "def divide(a, b):\n",
    "    if b != 0:\n",
    "        return a / b\n",
    "    else:\n",
    "        return \"Cannot divide by zero\"\n"
   ]
  },
  {
   "cell_type": "code",
   "execution_count": null,
   "id": "067ffa7e",
   "metadata": {},
   "outputs": [],
   "source": [
    "# main.py\n",
    "\n",
    "import math_operations\n",
    "\n",
    "result_add = math_operations.add(5, 3)\n",
    "print(\"Addition Result:\", result_add)\n",
    "\n",
    "result_subtract = math_operations.subtract(10, 4)\n",
    "print(\"Subtraction Result:\", result_subtract)\n",
    "\n",
    "result_multiply = math_operations.multiply(7, 6)\n",
    "print(\"Multiplication Result:\", result_multiply)\n",
    "\n",
    "result_divide = math_operations.divide(20, 5)\n",
    "print(\"Division Result:\", result_divide)\n"
   ]
  },
  {
   "cell_type": "markdown",
   "id": "8b3856f2",
   "metadata": {},
   "source": [
    "### Built-in Modules"
   ]
  },
  {
   "cell_type": "markdown",
   "id": "c93a389b",
   "metadata": {},
   "source": [
    "Following example demonstrates the usage of Python's built-in module \"datetime\" to work with dates and times"
   ]
  },
  {
   "cell_type": "code",
   "execution_count": 2,
   "id": "250cafa7",
   "metadata": {},
   "outputs": [
    {
     "name": "stdout",
     "output_type": "stream",
     "text": [
      "Current Date and Time: 2023-12-30 10:06:55.799324\n",
      "Today's Date: 2023-12-30\n",
      "Specific Date: 2023-12-31\n",
      "Formatted Date: 31-12-2023\n",
      "Time Difference (in days): 367\n"
     ]
    }
   ],
   "source": [
    "import datetime\n",
    "\n",
    "# Get the current date and time\n",
    "current_datetime = datetime.datetime.now()\n",
    "print(\"Current Date and Time:\", current_datetime)\n",
    "\n",
    "# Get today's date\n",
    "today_date = datetime.date.today()\n",
    "print(\"Today's Date:\", today_date)\n",
    "\n",
    "# Create a specific date\n",
    "specific_date = datetime.date(2023, 12, 31)\n",
    "print(\"Specific Date:\", specific_date)\n",
    "\n",
    "# Format a date\n",
    "formatted_date = specific_date.strftime(\"%d-%m-%Y\")\n",
    "print(\"Formatted Date:\", formatted_date)\n",
    "\n",
    "# Calculate time difference\n",
    "future_date = datetime.date(2024, 12, 31)\n",
    "time_difference = future_date - today_date\n",
    "print(\"Time Difference (in days):\", time_difference.days)\n"
   ]
  },
  {
   "cell_type": "markdown",
   "id": "a980decf",
   "metadata": {},
   "source": [
    "This example showcases the use of the datetime module and the utilization of its numerous functionalities. These functionalities include obtaining the current date and time, retrieving the date for today, generating particular dates, formatting dates, and calculating time differences between dates.\n"
   ]
  },
  {
   "cell_type": "code",
   "execution_count": null,
   "id": "b185edbe",
   "metadata": {},
   "outputs": [],
   "source": []
  }
 ],
 "metadata": {
  "kernelspec": {
   "display_name": "Python 3 (ipykernel)",
   "language": "python",
   "name": "python3"
  },
  "language_info": {
   "codemirror_mode": {
    "name": "ipython",
    "version": 3
   },
   "file_extension": ".py",
   "mimetype": "text/x-python",
   "name": "python",
   "nbconvert_exporter": "python",
   "pygments_lexer": "ipython3",
   "version": "3.9.16"
  }
 },
 "nbformat": 4,
 "nbformat_minor": 5
}
