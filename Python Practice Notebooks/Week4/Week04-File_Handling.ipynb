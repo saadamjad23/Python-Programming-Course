{
 "cells": [
  {
   "cell_type": "markdown",
   "id": "c3f383e8",
   "metadata": {},
   "source": [
    "# File Handling"
   ]
  },
  {
   "cell_type": "markdown",
   "id": "203ea625",
   "metadata": {},
   "source": [
    "File handling in Python encompasses the activities involved in manipulating files, such as extracting data from files and storing data in files. Python has inherent functions and methods for doing diverse operations on files.\n"
   ]
  },
  {
   "cell_type": "markdown",
   "id": "dab69fe4",
   "metadata": {},
   "source": [
    "Below are several fundamental operations associated with file handling:\n",
    "\n",
    "    File Opening: Use the open() function to initiate the opening of a file. To open a file, you need to provide the file    path and define the desired mode, such as read, write, append, etc.\n",
    "\n",
    "\n",
    "    File Reading: Once a file is opened in 'r' mode, you can use methods such as read(), readline(), or readlines() to            access the file's content.\n",
    "\n",
    "    File Writing: When a file is opened in write mode ('w'), you can use methods such as write() to input data into the      file. Exercise caution while using this option, as it will overwrite any existing content or create a new file if none    exists.\n",
    "\n",
    "    Appending to a File: When you open a file in append mode ('a'), you can add new material to the end of the file without replacing any current data.\n",
    "\n",
    "    Closing a File: It is imperative to utilize the close() method to terminate file operations once you have finished with them. This allows for the allocation of additional system resources.\n",
    "\n",
    "Python additionally provides support for working with files via context managers, which are utilized using the 'with' statement. This feature guarantees that the file is appropriately terminated after its suite concludes, regardless of any exceptions that may occur.\n"
   ]
  },
  {
   "cell_type": "code",
   "execution_count": 1,
   "id": "3cc562a9",
   "metadata": {},
   "outputs": [],
   "source": [
    "# Writing to a file\n",
    "with open('example.txt', 'w') as file:\n",
    "    file.write('Hello, this is a sample text.\\n')\n",
    "    file.write('Writing to a file in Python.\\n')\n",
    "    file.write('This is new line.')"
   ]
  },
  {
   "cell_type": "code",
   "execution_count": 2,
   "id": "b4ddb7ef",
   "metadata": {},
   "outputs": [
    {
     "name": "stdout",
     "output_type": "stream",
     "text": [
      "Hello, this is a sample text.\n",
      "Writing to a file in Python.\n",
      "This is new line.\n"
     ]
    }
   ],
   "source": [
    "# Reading from a file\n",
    "with open('example.txt', 'r') as file:\n",
    "    content = file.read()\n",
    "    print(content)\n"
   ]
  },
  {
   "cell_type": "markdown",
   "id": "5aaca151",
   "metadata": {},
   "source": [
    "This code generates a file called example.txt, writes certain stuff into it, and subsequently retrieves and displays the content."
   ]
  },
  {
   "cell_type": "code",
   "execution_count": 3,
   "id": "3e8b1fad",
   "metadata": {},
   "outputs": [
    {
     "name": "stdout",
     "output_type": "stream",
     "text": [
      "Content of the file:\n",
      "This is a sample text.\n",
      "Writing to a file in Python.\n",
      "\n",
      "\n",
      "Updated Content of the file:\n",
      "This is a sample text.\n",
      "Writing to a file in Python.\n",
      "Appending additional text.\n",
      "\n"
     ]
    }
   ],
   "source": [
    "# File Opening, Writing, and Closing\n",
    "with open('example.txt', 'w') as file:\n",
    "    file.write('This is a sample text.\\n')\n",
    "    file.write('Writing to a file in Python.\\n')\n",
    "\n",
    "# File Reading\n",
    "with open('example.txt', 'r') as file:\n",
    "    content = file.read()\n",
    "    print(\"Content of the file:\")\n",
    "    print(content)\n",
    "\n",
    "# File Appending\n",
    "with open('example.txt', 'a') as file:\n",
    "    file.write('Appending additional text.\\n')\n",
    "\n",
    "# File Reading After Appending\n",
    "with open('example.txt', 'r') as file:\n",
    "    updated_content = file.read()\n",
    "    print(\"\\nUpdated Content of the file:\")\n",
    "    print(updated_content)\n"
   ]
  },
  {
   "cell_type": "code",
   "execution_count": null,
   "id": "4a04027d",
   "metadata": {},
   "outputs": [],
   "source": []
  }
 ],
 "metadata": {
  "kernelspec": {
   "display_name": "Python 3 (ipykernel)",
   "language": "python",
   "name": "python3"
  },
  "language_info": {
   "codemirror_mode": {
    "name": "ipython",
    "version": 3
   },
   "file_extension": ".py",
   "mimetype": "text/x-python",
   "name": "python",
   "nbconvert_exporter": "python",
   "pygments_lexer": "ipython3",
   "version": "3.9.16"
  }
 },
 "nbformat": 4,
 "nbformat_minor": 5
}
